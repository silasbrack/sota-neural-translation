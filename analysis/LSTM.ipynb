{
  "nbformat": 4,
  "nbformat_minor": 0,
  "metadata": {
    "colab": {
      "name": "Untitled3.ipynb",
      "provenance": [],
      "collapsed_sections": []
    },
    "kernelspec": {
      "name": "python3",
      "display_name": "Python 3"
    },
    "accelerator": "GPU"
  },
  "cells": [
    {
      "cell_type": "code",
      "metadata": {
        "id": "QXR_RgunJggP",
        "outputId": "f7d2be62-125c-4511-9282-a976e7aa1929",
        "colab": {
          "base_uri": "https://localhost:8080/"
        }
      },
      "source": [
        "!pip install torchtext==0.6.0 --quiet\n",
        "!python -m spacy download en --quiet\n",
        "!python -m spacy download de --quiet"
      ],
      "execution_count": 1,
      "outputs": [
        {
          "output_type": "stream",
          "text": [
            "\u001b[K     |████████████████████████████████| 71kB 6.1MB/s \n",
            "\u001b[K     |████████████████████████████████| 1.1MB 18.0MB/s \n",
            "\u001b[?25h\u001b[38;5;2m✔ Download and installation successful\u001b[0m\n",
            "You can now load the model via spacy.load('en_core_web_sm')\n",
            "\u001b[38;5;2m✔ Linking successful\u001b[0m\n",
            "/usr/local/lib/python3.6/dist-packages/en_core_web_sm -->\n",
            "/usr/local/lib/python3.6/dist-packages/spacy/data/en\n",
            "You can now load the model via spacy.load('en')\n",
            "\u001b[K     |████████████████████████████████| 14.9MB 17.1MB/s \n",
            "\u001b[?25h  Building wheel for de-core-news-sm (setup.py) ... \u001b[?25l\u001b[?25hdone\n",
            "\u001b[38;5;2m✔ Download and installation successful\u001b[0m\n",
            "You can now load the model via spacy.load('de_core_news_sm')\n",
            "\u001b[38;5;2m✔ Linking successful\u001b[0m\n",
            "/usr/local/lib/python3.6/dist-packages/de_core_news_sm -->\n",
            "/usr/local/lib/python3.6/dist-packages/spacy/data/de\n",
            "You can now load the model via spacy.load('de')\n",
            "Cloning into 'sota-neural-translation'...\n",
            "remote: Enumerating objects: 53, done.\u001b[K\n",
            "remote: Counting objects: 100% (53/53), done.\u001b[K\n",
            "remote: Compressing objects: 100% (37/37), done.\u001b[K\n",
            "remote: Total 53 (delta 7), reused 48 (delta 5), pack-reused 0\u001b[K\n",
            "Unpacking objects: 100% (53/53), done.\n"
          ],
          "name": "stdout"
        }
      ]
    },
    {
      "cell_type": "code",
      "metadata": {
        "id": "pBP4RmdDK5V9",
        "outputId": "2e464c27-8813-4f06-f47d-a31046cc5f51",
        "colab": {
          "base_uri": "https://localhost:8080/"
        }
      },
      "source": [
        "!git clone https://github.com/silasbrack/sota-neural-translation.git"
      ],
      "execution_count": 8,
      "outputs": [
        {
          "output_type": "stream",
          "text": [
            "Cloning into 'sota-neural-translation'...\n",
            "remote: Enumerating objects: 57, done.\u001b[K\n",
            "remote: Counting objects:   1% (1/57)\u001b[K\rremote: Counting objects:   3% (2/57)\u001b[K\rremote: Counting objects:   5% (3/57)\u001b[K\rremote: Counting objects:   7% (4/57)\u001b[K\rremote: Counting objects:   8% (5/57)\u001b[K\rremote: Counting objects:  10% (6/57)\u001b[K\rremote: Counting objects:  12% (7/57)\u001b[K\rremote: Counting objects:  14% (8/57)\u001b[K\rremote: Counting objects:  15% (9/57)\u001b[K\rremote: Counting objects:  17% (10/57)\u001b[K\rremote: Counting objects:  19% (11/57)\u001b[K\rremote: Counting objects:  21% (12/57)\u001b[K\rremote: Counting objects:  22% (13/57)\u001b[K\rremote: Counting objects:  24% (14/57)\u001b[K\rremote: Counting objects:  26% (15/57)\u001b[K\rremote: Counting objects:  28% (16/57)\u001b[K\rremote: Counting objects:  29% (17/57)\u001b[K\rremote: Counting objects:  31% (18/57)\u001b[K\rremote: Counting objects:  33% (19/57)\u001b[K\rremote: Counting objects:  35% (20/57)\u001b[K\rremote: Counting objects:  36% (21/57)\u001b[K\rremote: Counting objects:  38% (22/57)\u001b[K\rremote: Counting objects:  40% (23/57)\u001b[K\rremote: Counting objects:  42% (24/57)\u001b[K\rremote: Counting objects:  43% (25/57)\u001b[K\rremote: Counting objects:  45% (26/57)\u001b[K\rremote: Counting objects:  47% (27/57)\u001b[K\rremote: Counting objects:  49% (28/57)\u001b[K\rremote: Counting objects:  50% (29/57)\u001b[K\rremote: Counting objects:  52% (30/57)\u001b[K\rremote: Counting objects:  54% (31/57)\u001b[K\rremote: Counting objects:  56% (32/57)\u001b[K\rremote: Counting objects:  57% (33/57)\u001b[K\rremote: Counting objects:  59% (34/57)\u001b[K\rremote: Counting objects:  61% (35/57)\u001b[K\rremote: Counting objects:  63% (36/57)\u001b[K\rremote: Counting objects:  64% (37/57)\u001b[K\rremote: Counting objects:  66% (38/57)\u001b[K\rremote: Counting objects:  68% (39/57)\u001b[K\rremote: Counting objects:  70% (40/57)\u001b[K\rremote: Counting objects:  71% (41/57)\u001b[K\rremote: Counting objects:  73% (42/57)\u001b[K\rremote: Counting objects:  75% (43/57)\u001b[K\rremote: Counting objects:  77% (44/57)\u001b[K\rremote: Counting objects:  78% (45/57)\u001b[K\rremote: Counting objects:  80% (46/57)\u001b[K\rremote: Counting objects:  82% (47/57)\u001b[K\rremote: Counting objects:  84% (48/57)\u001b[K\rremote: Counting objects:  85% (49/57)\u001b[K\rremote: Counting objects:  87% (50/57)\u001b[K\rremote: Counting objects:  89% (51/57)\u001b[K\rremote: Counting objects:  91% (52/57)\u001b[K\rremote: Counting objects:  92% (53/57)\u001b[K\rremote: Counting objects:  94% (54/57)\u001b[K\rremote: Counting objects:  96% (55/57)\u001b[K\rremote: Counting objects:  98% (56/57)\u001b[K\rremote: Counting objects: 100% (57/57)\u001b[K\rremote: Counting objects: 100% (57/57), done.\u001b[K\n",
            "remote: Compressing objects: 100% (39/39), done.\u001b[K\n",
            "remote: Total 57 (delta 9), reused 52 (delta 7), pack-reused 0\u001b[K\n",
            "Unpacking objects: 100% (57/57), done.\n"
          ],
          "name": "stdout"
        }
      ]
    },
    {
      "cell_type": "code",
      "metadata": {
        "id": "MaPYNNVNKak7",
        "outputId": "f45b3438-c372-4da3-c68a-4ae83eed0682",
        "colab": {
          "base_uri": "https://localhost:8080/"
        }
      },
      "source": [
        "!nvidia-smi\n"
      ],
      "execution_count": 4,
      "outputs": [
        {
          "output_type": "stream",
          "text": [
            "Mon Nov  9 13:20:40 2020       \n",
            "+-----------------------------------------------------------------------------+\n",
            "| NVIDIA-SMI 455.32.00    Driver Version: 418.67       CUDA Version: 10.1     |\n",
            "|-------------------------------+----------------------+----------------------+\n",
            "| GPU  Name        Persistence-M| Bus-Id        Disp.A | Volatile Uncorr. ECC |\n",
            "| Fan  Temp  Perf  Pwr:Usage/Cap|         Memory-Usage | GPU-Util  Compute M. |\n",
            "|                               |                      |               MIG M. |\n",
            "|===============================+======================+======================|\n",
            "|   0  Tesla T4            Off  | 00000000:00:04.0 Off |                    0 |\n",
            "| N/A   37C    P8     9W /  70W |      0MiB / 15079MiB |      0%      Default |\n",
            "|                               |                      |                 ERR! |\n",
            "+-------------------------------+----------------------+----------------------+\n",
            "                                                                               \n",
            "+-----------------------------------------------------------------------------+\n",
            "| Processes:                                                                  |\n",
            "|  GPU   GI   CI        PID   Type   Process name                  GPU Memory |\n",
            "|        ID   ID                                                   Usage      |\n",
            "|=============================================================================|\n",
            "|  No running processes found                                                 |\n",
            "+-----------------------------------------------------------------------------+\n"
          ],
          "name": "stdout"
        }
      ]
    },
    {
      "cell_type": "code",
      "metadata": {
        "id": "k5TsIvqaKgCK",
        "outputId": "187f1add-1b77-44cb-d761-4b527e5f9eec",
        "colab": {
          "base_uri": "https://localhost:8080/"
        }
      },
      "source": [
        "%cd /content/sota-neural-translation/\n",
        "!pwd\n",
        "!python training/train_LSTM.py"
      ],
      "execution_count": null,
      "outputs": [
        {
          "output_type": "stream",
          "text": [
            "/content/sota-neural-translation\n",
            "/content/sota-neural-translation\n",
            "Unique tokens in source (de) vocabulary: 5376\n",
            "Unique tokens in target (en) vocabulary: 4556\n",
            "German -  zwei junge weiße männer sind im freien in der nähe vieler büsche .  Length -  13\n",
            "English -  two young , white males are outside near many bushes .  Length -  11\n",
            "\n",
            "German -  mehrere männer mit schutzhelmen bedienen ein antriebsradsystem .  Length -  8\n",
            "English -  several men in hard hats are operating a giant pulley system .  Length -  12\n",
            "\n",
            "German -  ein kleines mädchen klettert in ein spielhaus aus holz .  Length -  10\n",
            "English -  a little girl climbing into a wooden playhouse .  Length -  9\n",
            "\n",
            "German -  ein mann in einem blauen hemd steht auf einer leiter und putzt ein fenster .  Length -  15\n",
            "English -  a man in a blue shirt is standing on a ladder cleaning a window .  Length -  15\n",
            "\n",
            "German -  zwei männer stehen am herd und bereiten essen zu .  Length -  10\n",
            "English -  two men are at the stove preparing food .  Length -  9\n",
            "\n",
            "German -  ein mann in grün hält eine gitarre , während der andere mann sein hemd ansieht .  Length -  16\n",
            "English -  a man in green holds a guitar while the other man observes his shirt .  Length -  15\n",
            "\n",
            "German -  ein mann lächelt einen ausgestopften löwen an .  Length -  8\n",
            "English -  a man is smiling at a stuffed lion  Length -  8\n",
            "\n",
            "German -  ein schickes mädchen spricht mit dem handy während sie langsam die straße entlangschwebt .  Length -  14\n",
            "English -  a trendy girl talking on her cellphone while gliding slowly down the street .  Length -  14\n",
            "\n",
            "German -  eine frau mit einer großen geldbörse geht an einem tor vorbei .  Length -  12\n",
            "English -  a woman with a large purse is walking by a gate .  Length -  12\n",
            "\n",
            "German -  jungen tanzen mitten in der nacht auf pfosten .  Length -  9\n",
            "English -  boys dancing on poles in the middle of the night .  Length -  11\n",
            "\n",
            "Maximum Length of English Sentence 41 and German Sentence 44 in the dataset\n",
            "Minimum Length of English Sentence 4 and German Sentence 1 in the dataset\n",
            "EncoderLSTM(\n",
            "  (dropout): Dropout(p=0.5, inplace=False)\n",
            "  (embedding): Embedding(5376, 300)\n",
            "  (LSTM): LSTM(300, 1024, num_layers=2, dropout=0.5)\n",
            ")\n",
            "2020-11-09 13:27:14.924106: I tensorflow/stream_executor/platform/default/dso_loader.cc:48] Successfully opened dynamic library libcudart.so.10.1\n",
            "Epoch - 1 / 100\n",
            "Translated example sentence 1: \n",
            " ['cabinet', 'cabinet', 'shoots', 'shoots', 'shoots', 'guitars', 'guitars', 'rabbits', 'rabbits', 'umbrella', 'umbrella', 'washington', 'guitars', 'guitars', 'umbrella', 'night', 'cabinet', 'holiday', 'cabinet', 'holiday', 'cabinet', 'talking', 'early', 'early', 'early', 'cereal', 'soldiers', 'strawberry', 'strawberry', 'strawberry', 'strawberry', 'strawberry', 'rabbits', 'rabbits', 'rabbits', 'umbrella', 'umbrella', 'umbrella', 'wine', 'wine', 'holiday', 'holiday', 'cabinet', 'holiday', 'styrofoam', 'beyond', 'surgeons', 'guitars', 'slightly', 'silk']\n",
            "saving\n",
            "\n",
            "Epoch_Loss - 4.745150089263916\n",
            "\n",
            "Epoch - 2 / 100\n",
            "Translated example sentence 1: \n",
            " ['a', 'a', 'a', 'a', 'a', 'a', 'a', 'a', 'a', 'a', 'a', 'a', 'a', 'a', 'man', '.', 'a', 'man', '.', '<eos>']\n",
            "Epoch_Loss - 4.233015060424805\n",
            "\n",
            "Epoch - 3 / 100\n",
            "Translated example sentence 1: \n",
            " ['a', 'a', 'a', 'a', 'a', 'man', '.', '<eos>']\n"
          ],
          "name": "stdout"
        }
      ]
    }
  ]
}