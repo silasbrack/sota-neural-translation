{
 "cells": [
  {
   "cell_type": "code",
   "execution_count": 1,
   "metadata": {},
   "outputs": [],
   "source": [
    "import torch\n",
    "import torch.nn as nn\n",
    "import math\n",
    "import numpy as np\n",
    "\n",
    "import sys\n",
    "sys.path.insert(0,'..')"
   ]
  },
  {
   "cell_type": "markdown",
   "metadata": {},
   "source": [
    "### Load data\n",
    "\n",
    "Here we load the test set for the Multi30k and WMT14 datasets."
   ]
  },
  {
   "cell_type": "code",
   "execution_count": null,
   "metadata": {},
   "outputs": [],
   "source": [
    "from torchtext.datasets import Multi30k, WMT14\n",
    "from torchtext.data import Field"
   ]
  },
  {
   "cell_type": "code",
   "execution_count": null,
   "metadata": {},
   "outputs": [],
   "source": [
    "de = Field(tokenize = \"spacy\",\n",
    "            tokenizer_language=\"de_core_news_sm\",\n",
    "            init_token = '<sos>',\n",
    "            eos_token = '<eos>',\n",
    "            lower = True)\n",
    "\n",
    "en = Field(tokenize = \"spacy\",\n",
    "            tokenizer_language=\"en_core_web_sm\",\n",
    "            init_token = '<sos>',\n",
    "            eos_token = '<eos>',\n",
    "            lower = True)"
   ]
  },
  {
   "cell_type": "code",
   "execution_count": null,
   "metadata": {},
   "outputs": [],
   "source": [
    "_, _, multi30k = Multi30k.splits(exts = ('.de', '.en'), fields = (de, en))\n",
    "_, _, wmt14 = WMT14.splits(exts = ('.de', '.en'), fields = (de, en))"
   ]
  },
  {
   "cell_type": "code",
   "execution_count": null,
   "metadata": {},
   "outputs": [],
   "source": [
    "de.build_vocab(train_data, min_freq = 2)\n",
    "en.build_vocab(train_data, min_freq = 2)\n",
    "print(len(de.vocab))\n",
    "print(len(en.vocab))"
   ]
  },
  {
   "cell_type": "code",
   "execution_count": null,
   "metadata": {},
   "outputs": [],
   "source": [
    "PAD_IDX = en.vocab.stoi['<pad>']"
   ]
  },
  {
   "cell_type": "markdown",
   "metadata": {},
   "source": [
    "### Load models"
   ]
  },
  {
   "cell_type": "code",
   "execution_count": null,
   "metadata": {},
   "outputs": [],
   "source": [
    "from models import lstm, seq2seq_attn, transformer\n",
    "from transformers import AutoTokenizer, AutoModelForSeq2SeqLM"
   ]
  },
  {
   "cell_type": "code",
   "execution_count": null,
   "metadata": {},
   "outputs": [],
   "source": [
    "state = torch.load(\"lstm.pt\")\n",
    "params = state[\"params\"]\n",
    "lstm = lstm.make_model(*params[\"args\"], **params[\"kwargs\"])\n",
    "lstm.load_state_dict(state[\"state_dict\"])\n",
    "lstm_losses = state[\"loss\"]"
   ]
  },
  {
   "cell_type": "code",
   "execution_count": null,
   "metadata": {},
   "outputs": [],
   "source": [
    "state = torch.load(\"torch_Seq2Seq.pt\")\n",
    "params = state[\"params\"]\n",
    "gru = seq2seq_attn.make_model(*params[\"args\"], **params[\"kwargs\"])\n",
    "gru.load_state_dict(state[\"state_dict\"])\n",
    "gru_losses = state[\"loss\"]"
   ]
  },
  {
   "cell_type": "code",
   "execution_count": null,
   "metadata": {},
   "outputs": [],
   "source": [
    "state = torch.load(\"harvard_transformer2_state.pt\")\n",
    "params = state[\"params\"]\n",
    "trans = transformer.make_model(*params[\"args\"], **params[\"kwargs\"])\n",
    "trans.load_state_dict(state[\"state_dict\"])\n",
    "trans_losses = state[\"loss\"]"
   ]
  },
  {
   "cell_type": "code",
   "execution_count": null,
   "metadata": {},
   "outputs": [],
   "source": [
    "bert2bert = AutoModelForSeq2SeqLM.from_pretrained(\"google/bert2bert_L-24_wmt_de_en\").to(device)\n",
    "bert2bert_tokenizer = AutoTokenizer.from_pretrained(\"google/bert2bert_L-24_wmt_de_en\", pad_token=\"<pad>\", eos_token=\"</s>\", bos_token=\"<s>\", unk_token=\"<unk>\")"
   ]
  },
  {
   "cell_type": "markdown",
   "metadata": {},
   "source": [
    "### Training plots"
   ]
  },
  {
   "cell_type": "code",
   "execution_count": null,
   "metadata": {},
   "outputs": [],
   "source": [
    "plot_loss_curves(\"LSTM training curve\", lstm_losses[\"train\"], lstm_losses[\"val\"])"
   ]
  },
  {
   "cell_type": "code",
   "execution_count": null,
   "metadata": {},
   "outputs": [],
   "source": [
    "plot_loss_curves(\"GRU training curve\", gru_losses[\"train\"], gru_losses[\"val\"])"
   ]
  },
  {
   "cell_type": "code",
   "execution_count": null,
   "metadata": {},
   "outputs": [],
   "source": [
    "plot_loss_curves(\"Transformer training curve\", trans_losses[\"train\"], trans_losses[\"val\"])"
   ]
  },
  {
   "cell_type": "markdown",
   "metadata": {},
   "source": [
    "### Test loss and perplexity"
   ]
  },
  {
   "cell_type": "code",
   "execution_count": null,
   "metadata": {},
   "outputs": [],
   "source": [
    "lstm_test_loss = evaluate(lstm, multi30k, nn.CrossEntropyLoss(ignore_index=PAD_IDX))\n",
    "gru_test_loss = evaluate(gru, multi30k, nn.CrossEntropyLoss(ignore_index=PAD_IDX))\n",
    "trans_test_loss = evaluate(trans, multi30k, nn.CrossEntropyLoss(ignore_index=PAD_IDX))\n",
    "bert2bert_test_loss = evaluate(bert2bert, multi30k, nn.CrossEntropyLoss(ignore_index=PAD_IDX))"
   ]
  },
  {
   "cell_type": "markdown",
   "metadata": {},
   "source": [
    "### BLEU Score"
   ]
  },
  {
   "cell_type": "code",
   "execution_count": null,
   "metadata": {},
   "outputs": [],
   "source": [
    "from torchtext.data.metrics import bleu_score"
   ]
  },
  {
   "cell_type": "code",
   "execution_count": null,
   "metadata": {},
   "outputs": [],
   "source": [
    "bleu_lstm = eval_bleu(lstm, multi30k)\n",
    "bleu_gru = eval_bleu(gru, multi30k)\n",
    "bleu_trans = eval_bleu(trans, multi30k)\n",
    "bleu_bert2bert = eval_bleu(bert2bert, multi30k)"
   ]
  },
  {
   "cell_type": "code",
   "execution_count": null,
   "metadata": {},
   "outputs": [],
   "source": [
    "bleu_lstm = eval_bleu(lstm, wmt14)\n",
    "bleu_gru = eval_bleu(gru, wmt14)\n",
    "bleu_trans = eval_bleu(trans, wmt14)\n",
    "bleu_bert2bert = eval_bleu(bert2bert, wmt14)"
   ]
  },
  {
   "cell_type": "markdown",
   "metadata": {},
   "source": [
    "### Sample translations"
   ]
  },
  {
   "cell_type": "markdown",
   "metadata": {},
   "source": [
    "#### Short"
   ]
  },
  {
   "cell_type": "code",
   "execution_count": null,
   "metadata": {},
   "outputs": [],
   "source": [
    "sentence = \"eine gruppe von menschen steht vor einem iglu .\"\n",
    "real_translation = \"a group of people stands in front of an igloo .\""
   ]
  },
  {
   "cell_type": "markdown",
   "metadata": {},
   "source": [
    "#### Long"
   ]
  },
  {
   "cell_type": "code",
   "execution_count": 2,
   "metadata": {},
   "outputs": [],
   "source": [
    "sentence = \"ein mann mit kariertem hut in einer schwarzen jacke und einer schwarz-weiß gestreiften hose spielt auf einer bühne mit einem sänger und einem weiteren gitarristen im hintergrund auf einer e-gitarre .\"\n",
    "real_translation = \"a man in a black jacket and checkered hat wearing black and white striped pants plays an electric guitar on a stage with a singer and another guitar player in the background .\""
   ]
  },
  {
   "cell_type": "markdown",
   "metadata": {},
   "source": [
    "#### Attention and word probabilities"
   ]
  },
  {
   "cell_type": "code",
   "execution_count": null,
   "metadata": {},
   "outputs": [],
   "source": []
  },
  {
   "cell_type": "markdown",
   "metadata": {},
   "source": [
    "# Knowledge distillation"
   ]
  },
  {
   "cell_type": "code",
   "execution_count": null,
   "metadata": {},
   "outputs": [],
   "source": [
    "teacher = bert2bert\n",
    "student = seq2seq_attn.make_model(7854,5893,256,256,512,512,0.5,0.5,64, device=device)"
   ]
  },
  {
   "cell_type": "code",
   "execution_count": null,
   "metadata": {},
   "outputs": [],
   "source": []
  }
 ],
 "metadata": {
  "kernelspec": {
   "display_name": "Python 3",
   "language": "python",
   "name": "python3"
  },
  "language_info": {
   "codemirror_mode": {
    "name": "ipython",
    "version": 3
   },
   "file_extension": ".py",
   "mimetype": "text/x-python",
   "name": "python",
   "nbconvert_exporter": "python",
   "pygments_lexer": "ipython3",
   "version": "3.7.9"
  }
 },
 "nbformat": 4,
 "nbformat_minor": 4
}
